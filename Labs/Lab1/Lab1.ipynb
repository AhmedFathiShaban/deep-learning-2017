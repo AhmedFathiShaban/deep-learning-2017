{
 "cells": [
  {
   "cell_type": "markdown",
   "metadata": {},
   "source": [
    "## Welcome To Lab1 \n",
    "\n",
    "** Some Problems in this lab were gotten from http://www.practicepython.org , some from stanford's http://cs231n.github.io/python-numpy-tutorial/ , and some where created by me.**"
   ]
  },
  {
   "cell_type": "markdown",
   "metadata": {},
   "source": [
    "### Problem 1 :\n",
    "\n",
    "**Ask the user to enter a number, and print wether it is even or odd**\n",
    "\n",
    "### Solution ::\n"
   ]
  },
  {
   "cell_type": "code",
   "execution_count": 14,
   "metadata": {},
   "outputs": [
    {
     "name": "stdout",
     "output_type": "stream",
     "text": [
      "Enter a number: 45\n",
      "You picked an odd number.\n"
     ]
    }
   ],
   "source": [
    "\n",
    "num = input(\"Enter a number: \")\n",
    "mod = int(num) % 2\n",
    "if mod > 0:\n",
    "    print(\"You picked an odd number.\")\n",
    "else:\n",
    "    print(\"You picked an even number.\")\n",
    "\n",
    "# note : you have if - elif - else pattern. dont forget the colon,no paranthesis for the condition, and indentation is a MUST. "
   ]
  },
  {
   "cell_type": "markdown",
   "metadata": {},
   "source": [
    "### Problem 2 \n",
    "**Take a list, say for example this one:\n",
    "  a = [1, 1, 2, 3, 5, 8, 13, 21, 34, 55, 89]\n",
    "and write a program that prints out all the elements of the list that are less than a number entered by user. **\n",
    "\n",
    "### Solution ::"
   ]
  },
  {
   "cell_type": "code",
   "execution_count": 2,
   "metadata": {},
   "outputs": [
    {
     "name": "stdout",
     "output_type": "stream",
     "text": [
      "Choose a number: 55\n",
      "[1, 1, 2, 3, 5, 8, 13, 21, 34]\n"
     ]
    }
   ],
   "source": [
    "a = [1, 1, 2, 3, 5, 8, 13, 21, 34, 55, 89]\n",
    "\n",
    "num = int(input(\"Choose a number: \"))\n",
    "\n",
    "new_list = []\n",
    "\n",
    "for i in a:\n",
    "\tif i < num:\n",
    "\t\tnew_list.append(i)\n",
    "\n",
    "print (new_list)"
   ]
  },
  {
   "cell_type": "markdown",
   "metadata": {},
   "source": [
    "### Another Solution , Less Lines Of Code"
   ]
  },
  {
   "cell_type": "code",
   "execution_count": 5,
   "metadata": {},
   "outputs": [
    {
     "name": "stdout",
     "output_type": "stream",
     "text": [
      "please enter a number : 55\n",
      "[1, 1, 2, 3, 5, 8, 13, 21, 34]\n"
     ]
    }
   ],
   "source": [
    "a = [1, 1, 2, 3, 5, 8, 13, 21, 34, 55, 89]\n",
    "num = int(input(\"please enter a number : \"))\n",
    "print ([x for x in a if x< num])\n"
   ]
  },
  {
   "cell_type": "markdown",
   "metadata": {},
   "source": [
    "### Without repetition ? Use Set {} instead of List []"
   ]
  },
  {
   "cell_type": "code",
   "execution_count": 6,
   "metadata": {},
   "outputs": [
    {
     "name": "stdout",
     "output_type": "stream",
     "text": [
      "please enter a number : 55 \n",
      "{1, 2, 3, 34, 5, 8, 13, 21}\n"
     ]
    }
   ],
   "source": [
    "a = [1, 1, 2, 3, 5, 8, 13, 21, 34, 55, 89]\n",
    "num = int(input(\"please enter a number : \"))\n",
    "print ({x for x in a if x< num})\n"
   ]
  },
  {
   "cell_type": "markdown",
   "metadata": {},
   "source": [
    "### Note that lists can have mixed datatypes. for example the following code will work with no problems :"
   ]
  },
  {
   "cell_type": "code",
   "execution_count": 11,
   "metadata": {},
   "outputs": [
    {
     "name": "stdout",
     "output_type": "stream",
     "text": [
      "[1, 'a', 'helllooooo', ['internalList', 4050], 2.0]\n"
     ]
    }
   ],
   "source": [
    "myList = [1,'a', \"helllooooo\", [\"internalList\", 4050], 2.0]\n",
    "print (myList)\n"
   ]
  },
  {
   "cell_type": "markdown",
   "metadata": {},
   "source": [
    "### Problem 3 \n",
    "**Write a program to print some points that lie on the line :: y = 2x + 1, as tuples in a list.**\n",
    "\n"
   ]
  },
  {
   "cell_type": "code",
   "execution_count": 20,
   "metadata": {},
   "outputs": [
    {
     "name": "stdout",
     "output_type": "stream",
     "text": [
      "[(-3, -5), (-2, -3), (-1, -1), (0, 1), (1, 3), (2, 5)]\n"
     ]
    }
   ],
   "source": [
    "print([(x, 2*x + 1) for x in range(-3, 3 , 1 )])"
   ]
  },
  {
   "cell_type": "markdown",
   "metadata": {},
   "source": [
    "### Problem 4 \n",
    "\n",
    "**Write a program that generates two random lists of different sizes, and calculates another list that has all the numbers that are common between the two lists WITHOUT repetition. Use comprehensions.  **\n",
    "\n",
    "### Solution"
   ]
  },
  {
   "cell_type": "code",
   "execution_count": 35,
   "metadata": {},
   "outputs": [
    {
     "name": "stdout",
     "output_type": "stream",
     "text": [
      "[27, 21, 1, 5, 9]\n",
      "[9, 13, 6, 15, 12, 8, 22, 10, 14, 27]\n",
      "[9, 27]\n"
     ]
    }
   ],
   "source": [
    "import random as r\n",
    " \n",
    "a = r.sample(range(1,30), 5)\n",
    "b = r.sample(range(1,30), 10)\n",
    "\n",
    "result = list({i for i in a if i in b})\n",
    "\n",
    "print (a)\n",
    "print (b)\n",
    "print (result)"
   ]
  },
  {
   "cell_type": "markdown",
   "metadata": {},
   "source": [
    "### Problem 5\n",
    "**Write a program to store the numbers in range 1-5 and their squares inside a dictionary, and prints the dictionary **\n",
    "\n",
    "### Solution"
   ]
  },
  {
   "cell_type": "code",
   "execution_count": 45,
   "metadata": {},
   "outputs": [
    {
     "name": "stdout",
     "output_type": "stream",
     "text": [
      "{0: 0, 1: 1, 2: 4, 3: 9, 4: 16, 5: 25}\n",
      "square of 3 is 9 , while square of 5 is 25\n",
      "True\n"
     ]
    }
   ],
   "source": [
    "squares = {x: x*x for x in range(6)}\n",
    "print (squares)\n",
    "print (\"square of 3 is\" , squares[3],\", while square of 5 is\", squares[5])\n",
    "print ( 4 in squares)"
   ]
  },
  {
   "cell_type": "markdown",
   "metadata": {},
   "source": [
    "### Problem 6\n",
    "\n",
    "**Write a program to generate the multiplication table for numbers [1-9] into a list using one line **\n",
    "\n",
    "\n",
    "### Solution"
   ]
  },
  {
   "cell_type": "code",
   "execution_count": 143,
   "metadata": {},
   "outputs": [
    {
     "name": "stdout",
     "output_type": "stream",
     "text": [
      "[1, 2, 3, 4, 5, 6, 7, 8, 9]\n",
      "[2, 4, 6, 8, 10, 12, 14, 16, 18]\n",
      "[3, 6, 9, 12, 15, 18, 21, 24, 27]\n",
      "[4, 8, 12, 16, 20, 24, 28, 32, 36]\n",
      "[5, 10, 15, 20, 25, 30, 35, 40, 45]\n",
      "[6, 12, 18, 24, 30, 36, 42, 48, 54]\n",
      "[7, 14, 21, 28, 35, 42, 49, 56, 63]\n",
      "[8, 16, 24, 32, 40, 48, 56, 64, 72]\n",
      "[9, 18, 27, 36, 45, 54, 63, 72, 81]\n"
     ]
    }
   ],
   "source": [
    "\n",
    "table = [x*y for x in range(1,10) for y in range(1,10)]\n",
    "formattedTable = [table[i:i + 9] for i in range(0, len(table), 9)]\n",
    "print(*formattedTable, sep=\"\\n\") # list unpacking\n",
    "\n"
   ]
  },
  {
   "cell_type": "markdown",
   "metadata": {},
   "source": [
    "### Problem 7\n",
    "\n",
    "** Write a function that compares two input numbers and returns the result. **\n",
    "\n",
    "### Solution"
   ]
  },
  {
   "cell_type": "code",
   "execution_count": 54,
   "metadata": {},
   "outputs": [
    {
     "name": "stdout",
     "output_type": "stream",
     "text": [
      "num1 [1] is smaller than num2 [2]\n",
      "num1 [10] is larger than num2 [5]\n",
      "num1 [-3] is smaller than num2 [0]\n",
      "the two numbers [20,20] are equal\n"
     ]
    }
   ],
   "source": [
    "def compare(num1,num2):\n",
    "    if num1 > num2:\n",
    "        return  'num1 [%s] is larger than num2 [%s]' % (num1, num2)\n",
    "    elif num1 < num2:\n",
    "        return 'num1 [%s] is smaller than num2 [%s]' % (num1, num2)\n",
    "    else:\n",
    "        return 'the two numbers [%s,%s] are equal' %(num1, num2)\n",
    "    \n",
    "for (x,y) in [(1,2),(10,5),(-3,0),(20,20)] :\n",
    "    print(compare(x,y))"
   ]
  },
  {
   "cell_type": "markdown",
   "metadata": {},
   "source": [
    "### Problem 8\n",
    "\n",
    "** Write a function that concatenates two input strings, with an optional paramter to swap them **\n",
    "\n",
    "### Solution "
   ]
  },
  {
   "cell_type": "code",
   "execution_count": 79,
   "metadata": {},
   "outputs": [
    {
     "name": "stdout",
     "output_type": "stream",
     "text": [
      "fathy ahmed \n",
      "ahmed fathy\n"
     ]
    }
   ],
   "source": [
    "def concat(str1, str2, swap= False):\n",
    "    return \"%s %s \" %(str2,str1) if swap==True else \"%s %s\" %(str1,str2)\n",
    "\n",
    "print (concat(\"ahmed\", \"fathy\",swap= True))\n",
    "print(concat(\"ahmed\",\"fathy\"))"
   ]
  },
  {
   "cell_type": "markdown",
   "metadata": {},
   "source": [
    "### Problem 9\n",
    "**Write a Class Person that has some member variables like name and national_id_number(NID). Write all accessor functions for this class. Then write a Class Student, that inherets Person. A student has a college_id, current_year, and GPA. Note Python does not allow multiple constructors**\n",
    "\n",
    "### Solution"
   ]
  },
  {
   "cell_type": "code",
   "execution_count": 107,
   "metadata": {},
   "outputs": [
    {
     "name": "stdout",
     "output_type": "stream",
     "text": [
      "name is Ahmed, while NID is 123\n",
      "name is Talaat, while NID is 456\n",
      "name is Mohamed, while NID is 555\n"
     ]
    }
   ],
   "source": [
    "class Person:\n",
    "    # Constructor\n",
    "    def __init__(self, name, NID):\n",
    "        self.name = name.capitalize()  # Create an instance variable\n",
    "        self.NID = NID\n",
    "    # Instance method\n",
    "    def setParams(self, name , NID):\n",
    "        self.name = name.capitalize()\n",
    "        self.NID = NID\n",
    "    def getParams(self):\n",
    "        return \"name is %s, while NID is %s\" %(self.name, self.NID)\n",
    "class Student(Person):\n",
    "    def __init__(self,name,NID, collegeID,currentYear,GPA):\n",
    "        Person.__init__(self,name,NID)\n",
    "        self.collegeID = collegeID\n",
    "        self.currentYear = currentYear\n",
    "        self.GPA = GPA\n",
    "    \n",
    "p1 = Person(\"unknown\",\"unknown\")\n",
    "p1.setParams(\"ahmed\", 123)\n",
    "print(p1.getParams())\n",
    "\n",
    "\n",
    "p3 = Person(\"Talaat\",456)\n",
    "print(Person.getParams(p3))\n",
    "\n",
    "\n",
    "s1 = Student(\"Mohamed\",555,666,\"fourth\",3.7)\n",
    "print(s1.getParams()) # Note the function from the base class"
   ]
  },
  {
   "cell_type": "code",
   "execution_count": null,
   "metadata": {
    "collapsed": true
   },
   "outputs": [],
   "source": []
  }
 ],
 "metadata": {
  "kernelspec": {
   "display_name": "Python 3",
   "language": "python",
   "name": "python3"
  },
  "language_info": {
   "codemirror_mode": {
    "name": "ipython",
    "version": 3
   },
   "file_extension": ".py",
   "mimetype": "text/x-python",
   "name": "python",
   "nbconvert_exporter": "python",
   "pygments_lexer": "ipython3",
   "version": "3.6.1"
  }
 },
 "nbformat": 4,
 "nbformat_minor": 2
}
